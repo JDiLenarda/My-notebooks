{
 "cells": [
  {
   "cell_type": "code",
   "execution_count": null,
   "metadata": {
    "dotnet_interactive": {
     "language": "html"
    },
    "vscode": {
     "languageId": "dotnet-interactive.html"
    }
   },
   "outputs": [],
   "source": [
    "<center>\n",
    "    <div id=\"field\">\n",
    "        <h2>Soon here</h2>\n",
    "        <h1>John Conway's game of life!</h1>\n",
    "    </div>\n",
    "    <div id=\"monitor\">\n",
    "    <h2>\n",
    "        Iteration <output name=\"iteration\">0</output> - <output name=\"cellCount\">0</output> live cells\n",
    "    <h2>\n",
    "        Generated in <output name=\"generationDuration\">0</output> ms - rendered in <output name=\"renderDuration\">0</output> ms\n",
    "    <div>\n",
    "</center>"
   ]
  },
  {
   "cell_type": "code",
   "execution_count": null,
   "metadata": {
    "dotnet_interactive": {
     "language": "javascript"
    },
    "vscode": {
     "languageId": "dotnet-interactive.javascript"
    }
   },
   "outputs": [],
   "source": [
    "// update element IDed field\n",
    "updateField = function(html) {\n",
    "    field.innerHTML = html;\n",
    "};\n",
    "\n",
    "// update named elements with a dictionary { nom d'élément: valeur } \n",
    "updateMonitor = function(dict) {\n",
    "    for (const key of Object.keys(dict)) {\n",
    "        document.getElementsByName(key)[0].value = dict[key];\n",
    "    }\n",
    "}"
   ]
  },
  {
   "cell_type": "code",
   "execution_count": null,
   "metadata": {
    "dotnet_interactive": {
     "language": "csharp"
    },
    "vscode": {
     "languageId": "dotnet-interactive.csharp"
    }
   },
   "outputs": [],
   "source": [
    "using System.Collections.Immutable;\n",
    "\n",
    "record Cell(int X, int Y)\n",
    "{\n",
    "    public Cell[] Neighbors =>\n",
    "        new[] \n",
    "        {\n",
    "            new Cell(X + 1, Y + 1), new Cell(X, Y + 1), new Cell(X - 1, Y + 1), \n",
    "            new Cell(X + 1, Y),                         new Cell(X - 1, Y),     \n",
    "            new Cell(X + 1, Y - 1), new Cell(X, Y - 1), new Cell(X - 1, Y - 1), \n",
    "        };\n",
    "}\n",
    "\n",
    "record Universe(int Iteration, ImmutableHashSet<Cell> LiveCells)\n",
    "{\n",
    "    /// logique du jeu de la vie\n",
    "    public Universe NextGeneration()\n",
    "    {                                               // [[[\n",
    "         var nextCells = LiveCells                  //  L'univers est représenté par un inventaire des cellules vivantes.\n",
    "            .SelectMany(cell => cell.Neighbors)     //  A chaque génération, on calcule le nouvel état des cellules vivantes,\n",
    "            .Concat(LiveCells)                      //  et de leurs voisines (vivantes ou vides). Le type choisi est un hashset,\n",
    "            .Distinct()                             //  car il est soumis à des vérifications de contenance très fréquent.\n",
    "            .Where(cell =>                          // ]]]\n",
    "                {   \n",
    "                    var isAlive = LiveCells.Contains(cell);\n",
    "                    var liveNeighbors = LiveCells.Intersect(cell.Neighbors);\n",
    "                    return (isAlive, liveNeighbors.Count) switch\n",
    "                    {\n",
    "                        (true, 2 or 3) => true,     // Une cellule reste vivante si elle a 2 ou 3 voisines.\n",
    "                        (false, 3) => true,         // Une cellule devient vivante si elle a 3 voisines.\n",
    "                        (_, _) => false             // Autrement, elle meurt ou reste vide.\n",
    "                    };\n",
    "                })\n",
    "            .ToImmutableHashSet();\n",
    "        return new Universe(Iteration + 1, nextCells);\n",
    "    }\n",
    "\n",
    "    /// Extrait une univers d'une chaîne multiligne représentant une matrice où les O sont des cellules vivantes.\n",
    "    public static Universe BuildFromText(string text) \n",
    "    {\n",
    "        var cells = text.Split('\\n')\n",
    "            .SelectMany((line, i) => line.Select((chr, j) => (chr, i, j)))\n",
    "            .Where(x => x.chr == 'O')\n",
    "            .Select(x => new Cell(x.j, x.i));\n",
    "        return new Universe(0, cells.ToImmutableHashSet());\n",
    "    }\n",
    "\n",
    "    /// Génère une balise html de type svg représentant graphiquement l'univers.\n",
    "    public string ToSvgMarkup(int width, int height, int viewSize)\n",
    "    {\n",
    "        var sb = new System.Text.StringBuilder();\n",
    "        sb.AppendLine(@$\"<svg width=\"\"{viewSize}\"\" viewBox=\"\"0 0 {width} {height}\"\">\");\n",
    "        sb.AppendLine(@$\"<rect width=\"\"{width}\"\" height=\"\"{height}\"\" fill=\"\"#222222\"\" />\");\n",
    "        foreach (var cell in LiveCells)\n",
    "        {\n",
    "            sb.AppendLine(@$\"<rect width=\"\"0.98\"\" height=\"\"0.98\"\" x=\"\"{cell.X}\"\" y=\"\"{cell.Y}\"\" rx=\"\"0.30\"\" fill=\"\"LightBlue\"\"></rect>\");\n",
    "        }\n",
    "        sb.AppendLine(\"</svg>\");\n",
    "        return sb.ToString();\n",
    "    }\n",
    "\n",
    "    /// Génère aléatoirement un univers\n",
    "    public static Universe BuildRandom(int width, int height, int percentageAlive)\n",
    "    {\n",
    "        var rng = new Random();\n",
    "        var cells = ImmutableHashSet.Create<Cell>();\n",
    "        for (int i = 0; i < width; i++)\n",
    "        {\n",
    "            for (int j = 0; j < height; j++)\n",
    "            {\n",
    "                if (rng.NextDouble() < (double)percentageAlive / 100.0)\n",
    "                cells = cells.Add(new Cell(i, j));\n",
    "            }\n",
    "        }\n",
    "        return new Universe(0, cells);\n",
    "    }\n",
    "}"
   ]
  },
  {
   "cell_type": "code",
   "execution_count": null,
   "metadata": {
    "dotnet_interactive": {
     "language": "csharp"
    },
    "vscode": {
     "languageId": "dotnet-interactive.csharp"
    }
   },
   "outputs": [],
   "source": [
    "#!value --name gosperGliderGun\n",
    "______________________________________________\n",
    "______________________________________________\n",
    "______________________________________________\n",
    "______________________________________________\n",
    "_____________________________O________________\n",
    "___________________________O_O________________\n",
    "_________________OO______OO____________OO_____\n",
    "________________O___O____OO____________OO_____\n",
    "_____OO________O_____O___OO___________________\n",
    "_____OO________O___O_OO____O_O________________\n",
    "_______________O_____O_______O________________\n",
    "________________O___O_________________________\n",
    "_________________OO___________________________\n",
    "______________________________________________\n",
    "______________________________________________\n",
    "______________________________________________\n",
    "______________________________________________"
   ]
  },
  {
   "cell_type": "code",
   "execution_count": null,
   "metadata": {
    "dotnet_interactive": {
     "language": "csharp"
    },
    "vscode": {
     "languageId": "dotnet-interactive.csharp"
    }
   },
   "outputs": [],
   "source": [
    "#!share gosperGliderGun --from value\n",
    "\n",
    "\n",
    "using Microsoft.DotNet.Interactive;\n",
    "using Microsoft.DotNet.Interactive.Commands;\n",
    "using System.Diagnostics;\n",
    "\n",
    "var universe = Universe.BuildFromText(gosperGliderGun);\n",
    "\n",
    "await RunUniverse(universe, width: 46, height: 25);\n",
    "\n",
    "async Task RunUniverse(Universe universe, int width, int height, int viewSize = 800)\n",
    "{\n",
    "    var sw = new Stopwatch();\n",
    "    while (! KernelInvocationContext.Current.CancellationToken.IsCancellationRequested)\n",
    "    {\n",
    "        var delay = Task.Delay(120);\n",
    "        sw.Restart();\n",
    "        await SendJSCodeAsync($\"updateField(`{universe.ToSvgMarkup(width, height, viewSize)}`);\");\n",
    "        await SendJSCodeAsync($@\"updateMonitor({{ \n",
    "            \"\"cellCount\"\": {universe.LiveCells.Count}, \n",
    "            \"\"iteration\"\": {universe.Iteration},\n",
    "            \"\"renderDuration\"\": {sw.ElapsedMilliseconds} \n",
    "        }});\");\n",
    "        sw.Restart();\n",
    "        universe = universe.NextGeneration();\n",
    "        await SendJSCodeAsync($@\"updateMonitor({{ \"\"generationDuration\"\": {sw.ElapsedMilliseconds} }});\");\n",
    "        await delay;\n",
    "    }\n",
    "\n",
    "    async Task SendJSCodeAsync(string code) => await Kernel.Root.SendAsync(new SubmitCode(code, \"javascript\"));\n",
    "}"
   ]
  }
 ],
 "metadata": {
  "kernelspec": {
   "display_name": ".NET (C#)",
   "language": "C#",
   "name": ".net-csharp"
  },
  "language_info": {
   "name": "C#"
  }
 },
 "nbformat": 4,
 "nbformat_minor": 2
}
